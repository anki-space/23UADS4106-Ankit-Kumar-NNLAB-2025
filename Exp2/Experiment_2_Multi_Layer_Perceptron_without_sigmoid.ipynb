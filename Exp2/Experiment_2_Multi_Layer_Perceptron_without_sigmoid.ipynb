{
  "nbformat": 4,
  "nbformat_minor": 0,
  "metadata": {
    "colab": {
      "provenance": []
    },
    "kernelspec": {
      "name": "python3",
      "display_name": "Python 3"
    },
    "language_info": {
      "name": "python"
    }
  },
  "cells": [
    {
      "cell_type": "markdown",
      "source": [
        "\n",
        "# Experiment 2:\tImplementation of Multi-Layer Perceptron\n",
        "\n",
        "\n",
        "### **1. Objective**\n",
        "WAP to implement a multi-layer perceptron (MLP) network with one hidden layer using numpy in Python. Demonstrate that it can learn the XOR Boolean function.   "
      ],
      "metadata": {
        "id": "s-mMpKbtM5N7"
      }
    },
    {
      "cell_type": "markdown",
      "source": [
        "\n",
        "### **2. Description of the Model**\n",
        "For this experiment,an MLP is designed with one hidden layer to solve the XOR function, which is a non-linearly separable problem. Since a single-layer perceptron cannot solve XOR, there is need to introduce hidden layer with multiple neurons .\n",
        "\n",
        "**Model Components**\n",
        "\n",
        "**Input Layer**: 2 neurons (for two input bits)\n",
        "\n",
        "**Hidden Layer**: 4 perceptrons (to learn intermediate patterns)\n",
        "\n",
        "**Activation Function**: Step function (binary output)\n",
        "\n",
        "**Output Layer**: 1 perceptron (final XOR output)"
      ],
      "metadata": {
        "id": "PAXWsxRVM7IJ"
      }
    },
    {
      "cell_type": "markdown",
      "source": [
        "### **3. Python Implementation**"
      ],
      "metadata": {
        "id": "1dPcilCeNBmZ"
      }
    },
    {
      "cell_type": "markdown",
      "source": [
        "Perceptron Class"
      ],
      "metadata": {
        "id": "HCnUx7h9AK_n"
      }
    },
    {
      "cell_type": "code",
      "execution_count": null,
      "metadata": {
        "id": "Zr0Y7lpYLvE8"
      },
      "outputs": [],
      "source": [
        "import numpy as np\n",
        "\n",
        "class Perceptron:\n",
        "    def __init__(self, input_size, learning_rate=0.1, epochs=1000):\n",
        "        self.weights = np.random.randn(input_size + 1)  # +1 for bias\n",
        "        self.learning_rate = learning_rate\n",
        "        self.epochs = epochs\n",
        "\n",
        "    def activation(self, x):\n",
        "        return 1 if x >= 0 else 0\n",
        "\n",
        "    def train(self, X, y):\n",
        "        X = np.c_[np.ones((X.shape[0], 1)), X]  # Add bias column\n",
        "        for epoch in range(self.epochs):\n",
        "            for i in range(X.shape[0]):\n",
        "                y_pred = self.activation(np.dot(self.weights, X[i]))\n",
        "                self.weights += self.learning_rate * (y[i] - y_pred) * X[i]\n",
        "\n",
        "    def predict(self, X, y):\n",
        "        y_pred = []\n",
        "        for x in X:\n",
        "            x_with_bias = np.insert(x, 0, 1)  # Add bias term\n",
        "            prediction = self.activation(np.dot(self.weights, x_with_bias))\n",
        "            y_pred.append(prediction)\n",
        "        return y_pred\n"
      ]
    },
    {
      "cell_type": "markdown",
      "source": [
        "Creating the Hidden Layer"
      ],
      "metadata": {
        "id": "okRo4EMVARR2"
      }
    },
    {
      "cell_type": "code",
      "source": [
        "# Define functions dynamically\n",
        "Hidden_ly_output = [\n",
        "    np.array([0, 0, 0, 1]),\n",
        "    np.array([0, 0, 1, 0]),\n",
        "    np.array([0, 1, 0, 0]),\n",
        "    np.array([1, 0, 0, 0])\n",
        "]\n",
        "\n",
        "X = np.array([[0, 0], [0, 1], [1, 0], [1, 1]])\n",
        "predictions = []\n",
        "\n",
        "# Train perceptrons for each function dynamically i.e 4 neurons for 4 different inputs\n",
        "for y in Hidden_ly_output:\n",
        "    perceptron = Perceptron(input_size=2,epochs=15)\n",
        "    perceptron.train(X, y)\n",
        "    y_pred = perceptron.predict(X, y)\n",
        "    predictions.append(y_pred)\n",
        "\n"
      ],
      "metadata": {
        "id": "DG76Ar8xASU8"
      },
      "execution_count": null,
      "outputs": []
    },
    {
      "cell_type": "markdown",
      "source": [
        "Creating the Final Output Perceptron"
      ],
      "metadata": {
        "id": "eFD8lMhRAoKH"
      }
    },
    {
      "cell_type": "code",
      "source": [
        "# Convert predictions into input for final perceptron\n",
        "final_X = np.array(predictions)\n",
        "\n",
        "final_y = np.array([0, 1, 1, 0]) # XOR output\n",
        "\n",
        "# Train final perceptron\n",
        "final_perceptron = Perceptron(input_size=len(final_X),epochs=15)\n",
        "final_perceptron.train(final_X, final_y)\n",
        "final_predictions = final_perceptron.predict(final_X, final_y)\n",
        "\n",
        "# Display XOR truth table with predictions\n",
        "print(\"\\nXOR Truth Table Predictions:\")\n",
        "print(\" X1  X2 |  y_actual  y_pred\")\n",
        "print(\"---------------------------\")\n",
        "for i in range(len(X)):\n",
        "    print(f\" {X[i][0]}   {X[i][1]}  |     {final_y[i]}        {final_predictions[i]}\")\n"
      ],
      "metadata": {
        "colab": {
          "base_uri": "https://localhost:8080/"
        },
        "id": "QWvce5L_Asmf",
        "outputId": "a0a11de5-f2b2-4d43-8033-872a3ba708e3"
      },
      "execution_count": null,
      "outputs": [
        {
          "output_type": "stream",
          "name": "stdout",
          "text": [
            "\n",
            "XOR Truth Table Predictions:\n",
            " X1  X2 |  y_actual  y_pred\n",
            "---------------------------\n",
            " 0   0  |     0        0\n",
            " 0   1  |     1        1\n",
            " 1   0  |     1        1\n",
            " 1   1  |     0        0\n"
          ]
        }
      ]
    },
    {
      "cell_type": "markdown",
      "source": [
        "\n",
        "### **4. Description of Code**\n",
        "\n",
        "1.   Perceptron Class:\n",
        "\n",
        "        *   Implements a simple perceptron with step activation function.\n",
        "        *   Performs forward propagation and weight updates using the perceptron learning rule.\n",
        "\n",
        "\n",
        "2.   Hidden Layer Training:\n",
        "\n",
        "        *   Trains 4 separate perceptrons to learn intermediate patterns for XOR.\n",
        "\n",
        "\n",
        "3.  Final Output Layer Training:\n",
        "\n",
        "      *   Uses the outputs from the hidden layer as inputs to a final perceptron.\n",
        "\n",
        "      *   This final perceptron learns the XOR function.\n",
        "\n",
        "\n"
      ],
      "metadata": {
        "id": "UWINqon_FXCW"
      }
    },
    {
      "cell_type": "markdown",
      "source": [
        "### **5.Evaluation**"
      ],
      "metadata": {
        "id": "p0w4t1obFSza"
      }
    },
    {
      "cell_type": "code",
      "source": [
        "\n",
        "import matplotlib.pyplot as plt\n",
        "from sklearn.metrics import confusion_matrix, ConfusionMatrixDisplay, accuracy_score\n",
        "\n",
        "\n",
        "accuracy = accuracy_score(final_y, final_predictions)\n",
        "print(f\"Final Perceptron Accuracy: {accuracy * 100:.2f}%\")\n",
        "print()\n",
        "\n",
        "cm = confusion_matrix(final_y, final_predictions)\n",
        "ConfusionMatrixDisplay(cm).plot()\n",
        "plt.title(\"Confusion Matrix for XOR using MLP\")\n",
        "plt.show()\n",
        "print()\n",
        "\n"
      ],
      "metadata": {
        "colab": {
          "base_uri": "https://localhost:8080/",
          "height": 526
        },
        "id": "Lm0__xD-FSat",
        "outputId": "1a4af792-3cf1-4c70-832f-7b58c08eb00e"
      },
      "execution_count": null,
      "outputs": [
        {
          "output_type": "stream",
          "name": "stdout",
          "text": [
            "Final Perceptron Accuracy: 100.00%\n",
            "\n"
          ]
        },
        {
          "output_type": "display_data",
          "data": {
            "text/plain": [
              "<Figure size 640x480 with 2 Axes>"
            ],
            "image/png": "[encoded data removed]"
          },
          "metadata": {}
        },
        {
          "output_type": "stream",
          "name": "stdout",
          "text": [
            "\n"
          ]
        }
      ]
    },
    {
      "cell_type": "markdown",
      "source": [
        "Accuracy :\n",
        "- 100% accuracy shows that the perceptron has perfectly learned and classified the XOR logic gate.\n",
        "\n",
        "Confusion Matrix:\n",
        "- Shows correct classifications for XOR, provding MLP learns nonlinear functions."
      ],
      "metadata": {
        "id": "80n88coON-Da"
      }
    },
    {
      "cell_type": "markdown",
      "source": [
        "### **6. Comments**\n",
        "- **Limitations:**\n",
        "  *    A manually designed 4-perceptron hidden layer works for XOR but might need tuning for different problems or sometimes it may not work for complex problem.\n",
        "  *   Training takes longer than single-layer perceptron requires.\n",
        "\n",
        "\n",
        "- **Scope for Improvement:**\n",
        "\n",
        "  *   Use of feedforward and backward propagation can more easily solve the XOR without explicitly training the hidden layer\n",
        "  *   Using a Sigmoid Activation Function: Instead of a step function allows smoother weight updates.\n",
        "\n"
      ],
      "metadata": {
        "id": "WAldlvrUF44J"
      }
    },
    {
      "cell_type": "markdown",
      "source": [
        "### 6. Comments\n",
        "- **Limitations:**\n",
        "  *   Training takes longer than single-layer perceptron requires.\n",
        "  *  Requires more computational power.\n",
        "\n",
        "\n",
        "- **Scope for Improvement:**\n",
        "\n",
        "  *   Can add more hidden layers for complex problems to improve accuracy.\n",
        "\n",
        "  *   Use batch training instead of updating after each sample.\n",
        "\n"
      ],
      "metadata": {
        "id": "oIbWUikrdB4s"
      }
    }
  ]
}