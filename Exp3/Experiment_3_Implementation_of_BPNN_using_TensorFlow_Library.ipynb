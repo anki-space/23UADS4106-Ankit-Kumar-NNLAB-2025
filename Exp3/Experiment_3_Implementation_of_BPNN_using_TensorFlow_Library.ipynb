{
  "cells": [
    {
      "cell_type": "markdown",
      "metadata": {
        "id": "s-mMpKbtM5N7"
      },
      "source": [
        "\n",
        "# Experiment 3:\tImplementation of Multi-Layer Perceptron\n",
        "\n",
        "\n",
        "### **1. Objective**\n",
        "WAP to implement a three-layer neural network using Tensor flow library (only, no keras) to classify MNIST handwritten digits dataset. Demonstrate the implementation of feed-forward and back-propagation approaches."
      ]
    },
    {
      "cell_type": "markdown",
      "metadata": {
        "id": "PAXWsxRVM7IJ"
      },
      "source": [
        "\n",
        "### **2. Description of the Model**\n",
        "This model is a simple **feedforward neural network (FNN)** designed for classifying handwritten digits from the **MNIST dataset**. The architecture consists of:\n",
        "- **Input Layer**: 784 neurons (flattened 28×28 grayscale images)\n",
        "- **Hidden Layer 1**: 128 neurons with Sigmoid activation\n",
        "- **Hidden Layer 2**: 64 neurons with Sigmoid activation\n",
        "- **Output Layer**: 10 neurons (one for each digit 0-9), using raw logits\n",
        "- **Loss Function**: Softmax cross-entropy\n",
        "- **Optimizer**: Gradient Descent\n",
        "- **Performance Metric**: Accuracy\n",
        "\n",
        "The model is trained for **15 epochs** using mini-batch gradient descent (batch size = 150)."
      ]
    },
    {
      "cell_type": "markdown",
      "metadata": {
        "id": "1dPcilCeNBmZ"
      },
      "source": [
        "### **3. Python Implementation**"
      ]
    },
    {
      "cell_type": "markdown",
      "metadata": {
        "id": "-hMm2LoeZiT3"
      },
      "source": [
        "Install & Import Dependencies"
      ]
    },
    {
      "cell_type": "code",
      "execution_count": 14,
      "metadata": {
        "id": "8nOTD0_fS9IV"
      },
      "outputs": [],
      "source": [
        "import tensorflow as tf\n",
        "import tensorflow_datasets as tfds\n",
        "import matplotlib.pyplot as plt\n",
        "\n",
        "# Disable eager execution for TF 2.x compatibility with TF 1.x code\n",
        "tf.compat.v1.disable_eager_execution()\n",
        "\n",
        "# Load MNIST dataset\n",
        "mnist_data = tfds.load(\"mnist\", as_supervised=True)\n",
        "train_data, test_data = mnist_data[\"train\"], mnist_data[\"test\"]"
      ]
    },
    {
      "cell_type": "markdown",
      "metadata": {
        "id": "tSutHTn9Zm0f"
      },
      "source": [
        "Load & Preprocess MNIST Dataset"
      ]
    },
    {
      "cell_type": "code",
      "execution_count": 15,
      "metadata": {
        "id": "vb4HaVHQXden"
      },
      "outputs": [],
      "source": [
        "# Load MNIST dataset\n",
        "mnist_data = tfds.load(\"mnist\", as_supervised=True)\n",
        "train_data, test_data = mnist_data[\"train\"], mnist_data[\"test\"]\n",
        "\n",
        "# Preprocess function: Flatten and Normalize\n",
        "def preprocess(image, label):\n",
        "    image = tf.reshape(image, [-1])  # Flatten (28x28 → 784)\n",
        "    image = tf.cast(image, tf.float32) / 255.0  # Normalize (0-255 → 0-1)\n",
        "    label = tf.one_hot(label, depth=10)  # One-hot encode\n",
        "    return image, label\n",
        "\n",
        "# Training parameters\n",
        "batch_size = 150\n",
        "num_epochs = 15\n",
        "steps_per_epoch = 60000 // batch_size  # MNIST has 60,000 training images\n",
        "\n",
        "# Apply preprocessing, shuffle, and batch\n",
        "train_data = train_data.map(preprocess).shuffle(10000).batch(batch_size)\n",
        "test_data = test_data.map(preprocess).batch(batch_size)\n",
        "\n"
      ]
    },
    {
      "cell_type": "markdown",
      "metadata": {
        "id": "cwkY6w4uZz-B"
      },
      "source": [
        "Create dataset iterators\n",
        "\n"
      ]
    },
    {
      "cell_type": "code",
      "execution_count": 16,
      "metadata": {
        "id": "vTYy4ZcUZ3dy"
      },
      "outputs": [],
      "source": [
        "iterator = tf.compat.v1.data.make_initializable_iterator(train_data)\n",
        "iterator_test = tf.compat.v1.data.make_initializable_iterator(test_data)\n",
        "next_batch = iterator.get_next()\n",
        "next_test_batch = iterator_test.get_next()"
      ]
    },
    {
      "cell_type": "markdown",
      "metadata": {
        "id": "WBt41VQeZ7gW"
      },
      "source": [
        "Define Model Architecture"
      ]
    },
    {
      "cell_type": "code",
      "execution_count": 17,
      "metadata": {
        "id": "9ol3MleeZ8JP"
      },
      "outputs": [],
      "source": [
        "# Define placeholders\n",
        "X = tf.compat.v1.placeholder(tf.float32, shape=[None, 784])\n",
        "Y = tf.compat.v1.placeholder(tf.float32, shape=[None, 10])\n",
        "\n",
        "# Define network parameters\n",
        "weights = {\n",
        "    \"h1\": tf.Variable(tf.random.normal([784, 128])),\n",
        "    \"h2\": tf.Variable(tf.random.normal([128, 64])),\n",
        "    \"out\": tf.Variable(tf.random.normal([64, 10])),\n",
        "}\n",
        "biases = {\n",
        "    \"b1\": tf.Variable(tf.random.normal([128])),\n",
        "    \"b2\": tf.Variable(tf.random.normal([64])),\n",
        "    \"out\": tf.Variable(tf.random.normal([10])),\n",
        "}\n",
        "\n",
        "# Define forward propagation function\n",
        "def forward_propagation(x):\n",
        "    layer1 = tf.nn.sigmoid(tf.add(tf.matmul(x, weights[\"h1\"]), biases[\"b1\"]))\n",
        "    layer2 = tf.nn.sigmoid(tf.add(tf.matmul(layer1, weights[\"h2\"]), biases[\"b2\"]))\n",
        "    output_layer = tf.add(tf.matmul(layer2, weights[\"out\"]), biases[\"out\"])\n",
        "    return output_layer\n",
        "\n",
        "\n"
      ]
    },
    {
      "cell_type": "markdown",
      "metadata": {
        "id": "KYSJXOC6aA18"
      },
      "source": [
        "Define Loss, Optimizer & Accuracy"
      ]
    },
    {
      "cell_type": "code",
      "execution_count": 18,
      "metadata": {
        "id": "Vwp3dbtnaAem"
      },
      "outputs": [],
      "source": [
        "# Define loss function\n",
        "logits = forward_propagation(X)\n",
        "loss = tf.reduce_mean(tf.nn.softmax_cross_entropy_with_logits(logits=logits, labels=Y))\n",
        "\n",
        "# Optimizer\n",
        "optimizer = tf.compat.v1.train.GradientDescentOptimizer(learning_rate=0.2).minimize(loss)\n",
        "\n",
        "\n",
        "# Define accuracy metric\n",
        "correct_prediction = tf.equal(tf.argmax(logits, 1), tf.argmax(Y, 1))\n",
        "accuracy = tf.reduce_mean(tf.cast(correct_prediction, tf.float32))\n",
        "\n",
        "\n"
      ]
    },
    {
      "cell_type": "markdown",
      "metadata": {
        "id": "G0_D9rdIaJIr"
      },
      "source": [
        "Train and save the Model"
      ]
    },
    {
      "cell_type": "code",
      "execution_count": 19,
      "metadata": {
        "colab": {
          "base_uri": "https://localhost:8080/"
        },
        "id": "wrVqvmSJaGxB",
        "outputId": "795098e8-1a3e-4f36-96bc-24e86fbedf87"
      },
      "outputs": [
        {
          "name": "stdout",
          "output_type": "stream",
          "text": [
            "Epoch 1, Loss: 1.5572, Accuracy: 52.80%\n",
            "Epoch 2, Loss: 0.7684, Accuracy: 75.28%\n",
            "Epoch 3, Loss: 0.5999, Accuracy: 81.08%\n",
            "Epoch 4, Loss: 0.5173, Accuracy: 83.82%\n",
            "Epoch 5, Loss: 0.4658, Accuracy: 85.51%\n",
            "Epoch 6, Loss: 0.4289, Accuracy: 86.80%\n",
            "Epoch 7, Loss: 0.4015, Accuracy: 87.64%\n",
            "Epoch 8, Loss: 0.3787, Accuracy: 88.33%\n",
            "Epoch 9, Loss: 0.3596, Accuracy: 88.92%\n",
            "Epoch 10, Loss: 0.3435, Accuracy: 89.53%\n",
            "Epoch 11, Loss: 0.3292, Accuracy: 89.98%\n",
            "Epoch 12, Loss: 0.3164, Accuracy: 90.34%\n",
            "Epoch 13, Loss: 0.3049, Accuracy: 90.79%\n",
            "Epoch 14, Loss: 0.2946, Accuracy: 91.03%\n",
            "Epoch 15, Loss: 0.2852, Accuracy: 91.37%\n",
            "Final Accuracy: 91.37%\n",
            "Training Completed!\n",
            "Model saved at: ./mnist_model.ckpt\n"
          ]
        }
      ],
      "source": [
        "# Store loss & accuracy per epoch\n",
        "train_losses = []\n",
        "train_accuracies = []\n",
        "\n",
        "with tf.compat.v1.Session() as sess:\n",
        "    sess.run(tf.compat.v1.global_variables_initializer())\n",
        "\n",
        "    for epoch in range(num_epochs):\n",
        "        sess.run(iterator.initializer)\n",
        "        avg_loss = 0\n",
        "        avg_accuracy = 0\n",
        "\n",
        "        for _ in range(steps_per_epoch):\n",
        "            try:\n",
        "                batch_x, batch_y = sess.run(next_batch)\n",
        "                _, l, acc = sess.run([optimizer, loss, accuracy], feed_dict={X: batch_x, Y: batch_y})\n",
        "                avg_loss += l / steps_per_epoch\n",
        "                avg_accuracy += acc / steps_per_epoch\n",
        "            except tf.errors.OutOfRangeError:\n",
        "                sess.run(iterator.initializer)\n",
        "\n",
        "        train_losses.append(avg_loss)\n",
        "        train_accuracies.append(avg_accuracy)\n",
        "        print(f\"Epoch {epoch+1}, Loss: {avg_loss:.4f}, Accuracy: {avg_accuracy*100:.2f}%\")\n",
        "    print(f\"Final Accuracy: {avg_accuracy*100:.2f}%\")\n",
        "    print(\"Training Completed!\")\n",
        "\n",
        "\n",
        "    saver = tf.compat.v1.train.Saver()\n",
        "    save_path = saver.save(sess, \"./mnist_model.ckpt\")\n",
        "    print(f\"Model saved at: {save_path}\")\n"
      ]
    },
    {
      "cell_type": "markdown",
      "metadata": {
        "id": "Ypy5U0uHfhKH"
      },
      "source": [
        "\n",
        "---\n",
        "## **4. Description of the Code**\n",
        "- **Preprocessing**: Images are flattened (28×28 → 784) and normalized (0-255 → 0-1). Labels are one-hot encoded.\n",
        "- **Neural Network Architecture**:\n",
        "\n",
        "  *  Input layer: 784 neurons (flattened image)\n",
        "\n",
        "  *  Hidden Layer 1: 128 neurons (sigmoid activation)\n",
        "\n",
        "  *  Hidden Layer 2: 64 neurons (sigmoid activation)\n",
        "\n",
        "  *  Output Layer: 10 neurons (softmax for classification)\n",
        "- **Training Process**:\n",
        "  - **Batch Size**: 150\n",
        "  - **Epochs**: 15\n",
        "  - **Loss Function**: Softmax Cross-Entropy\n",
        "  - **Optimizer**: Gradient Descent\n",
        "  - The model is trained using mini-batch gradient descent\n",
        "\n",
        "- **Performance Tracking**: Loss and Accuracy are recorded and plotted.\n",
        "\n",
        "---\n"
      ]
    },
    {
      "cell_type": "markdown",
      "metadata": {
        "id": "cNQEGHBNau5y"
      },
      "source": [
        "#**5.Evaluate Model on Test Set**"
      ]
    },
    {
      "cell_type": "markdown",
      "metadata": {
        "id": "_B4OiEaupJQH"
      },
      "source": [
        "Testing the trained model and predicting some output"
      ]
    },
    {
      "cell_type": "code",
      "execution_count": 23,
      "metadata": {
        "colab": {
          "base_uri": "https://localhost:8080/",
          "height": 429
        },
        "id": "I2kkl80Ba7yA",
        "outputId": "1995f436-2fd5-4127-e0d7-c48886506509"
      },
      "outputs": [
        {
          "name": "stdout",
          "output_type": "stream",
          "text": [
            "Model restored!\n",
            "\n",
            "\n",
            "\n",
            "Test Accuracy: 90.58%\n",
            "\n",
            "\n",
            "\n"
          ]
        },
        {
          "data": {
            "image/png": "[encoded data removed]",
            "text/plain": [
              "<Figure size 1000x400 with 4 Axes>"
            ]
          },
          "metadata": {},
          "output_type": "display_data"
        }
      ],
      "source": [
        "with tf.compat.v1.Session() as sess:\n",
        "    # Restore saved model\n",
        "    saver.restore(sess, \"./mnist_model.ckpt\")\n",
        "    print(\"Model restored!\")\n",
        "    print(\"\\n\\n\")\n",
        "    sess.run(iterator_test.initializer)\n",
        "\n",
        "    #check test accuracy\n",
        "    test_accuracy = 0\n",
        "    test_steps = 10000 // batch_size  # 10,000 test images\n",
        "\n",
        "    for _ in range(test_steps):\n",
        "        batch_x, batch_y = sess.run(next_test_batch)\n",
        "        acc = sess.run(accuracy, feed_dict={X: batch_x, Y: batch_y})\n",
        "        test_accuracy += acc / test_steps\n",
        "\n",
        "    print(f\"Test Accuracy: {test_accuracy *100:.2f}%\")\n",
        "    print(\"\\n\\n\")\n",
        "\n",
        "    # Initialize test dataset iterator\n",
        "    sess.run(iterator_test.initializer)\n",
        "\n",
        "    # Fetch test images and display predictions\n",
        "    fig, axes = plt.subplots(1, 4, figsize=(10, 4))  # Horizontal display\n",
        "\n",
        "    for i in range(4):\n",
        "        batch_x, batch_y = sess.run(next_test_batch)  # Fetch test batch\n",
        "        pred = sess.run(tf.argmax(logits, 1), feed_dict={X: batch_x})\n",
        "        actual = sess.run(tf.argmax(batch_y, 1))  # Convert one-hot labels back to integers\n",
        "\n",
        "        # Display image\n",
        "        axes[i].imshow(batch_x[0].reshape(28, 28), cmap=\"gray\")\n",
        "        axes[i].set_title(f\"Actual: {actual[0]} | Predicted: {pred[0]}\")\n",
        "        axes[i].axis(\"off\")  # Hide axis for cleaner visualization\n",
        "\n",
        "    plt.tight_layout()\n",
        "    plt.show()\n"
      ]
    },
    {
      "cell_type": "markdown",
      "metadata": {
        "id": "WxYb6y25a7RS"
      },
      "source": [
        "Plotting Accuracy vs Loss Curve"
      ]
    },
    {
      "cell_type": "code",
      "execution_count": 24,
      "metadata": {
        "colab": {
          "base_uri": "https://localhost:8080/",
          "height": 504
        },
        "id": "ivVQrhuVbAlC",
        "outputId": "1437bf7d-6b7c-42b0-eb33-c294eef7299c"
      },
      "outputs": [
        {
          "data": {
            "text/plain": [
              "<matplotlib.legend.Legend at 0x78e51434ee10>"
            ]
          },
          "execution_count": 24,
          "metadata": {},
          "output_type": "execute_result"
        },
        {
          "data": {
            "image/png": "[encoded data removed]",
            "text/plain": [
              "<Figure size 1200x500 with 1 Axes>"
            ]
          },
          "metadata": {},
          "output_type": "display_data"
        }
      ],
      "source": [
        "#  Plot Loss & Accuracy Curves\n",
        "plt.figure(figsize=(12, 5))\n",
        "\n",
        "plt.plot(range(1, num_epochs+1), train_losses, marker='o', linestyle='-', color='b', label=\"Loss\")\n",
        "plt.xlabel(\"Epochs\")\n",
        "plt.ylabel(\"Loss\")\n",
        "plt.title(\"Loss Curve\")\n",
        "plt.legend()\n",
        "\n"
      ]
    },
    {
      "cell_type": "markdown",
      "metadata": {
        "id": "uXvSszdHa7PA"
      },
      "source": [
        "Plotting Accuracy vs Epochs graph"
      ]
    },
    {
      "cell_type": "code",
      "execution_count": 28,
      "metadata": {
        "colab": {
          "base_uri": "https://localhost:8080/",
          "height": 472
        },
        "id": "BxUWufllbEyn",
        "outputId": "f078e77b-3f7c-4a20-df43-691d9e1c459a"
      },
      "outputs": [
        {
          "data": {
            "image/png": "[encoded data removed]",
            "text/plain": [
              "<Figure size 640x480 with 1 Axes>"
            ]
          },
          "metadata": {},
          "output_type": "display_data"
        }
      ],
      "source": [
        "plt.plot(range(1, num_epochs + 1), train_accuracies, marker='s', linestyle='-', color='g', label=\"Accuracy\")\n",
        "\n",
        "plt.xlabel(\"Epochs\")\n",
        "plt.ylabel(\"Accuracy\")\n",
        "plt.title(\"Accuracy vs Epochs\")\n",
        "plt.legend()\n",
        "\n",
        "plt.show()\n"
      ]
    },
    {
      "cell_type": "markdown",
      "metadata": {
        "id": "UTAVsU_CpYAh"
      },
      "source": [
        "\n",
        "- **Training Accuracy**: The model achieves approximately 91% training accuracy.\n",
        "- **Testing Accuracy**: The model achieves approximately 90% training accuracy.\n",
        "- **Loss Curve**: The loss decreases over epochs, indicating convergence.\n"
      ]
    },
    {
      "cell_type": "markdown",
      "metadata": {
        "id": "h_yn2jN8a7Mn"
      },
      "source": [
        "\n",
        "\n",
        "---\n",
        "## **6. My Comments (Limitations & Scope for Improvement)**\n",
        "### **Limitations**:\n",
        "- **Sigmoid Activation**: May cause vanishing gradient issues.\n",
        "-  Accuracy never reaches above 95%\n",
        "\n",
        "### **Scope for Improvement**:\n",
        "- Replace **Sigmoid with ReLU** for faster learning.\n",
        "- Hyperparameter tuning (learning rate, batch size) to optimize performance.\n",
        "- Use of **Adam optmizer** over **Gradient Descent** to gain more accuracy\n",
        "- Data augmentation to improve generalization.\n",
        "\n",
        "\n",
        "\n"
      ]
    }
  ],
  "metadata": {
    "accelerator": "GPU",
    "colab": {
      "gpuType": "T4",
      "provenance": []
    },
    "kernelspec": {
      "display_name": "Python 3",
      "name": "python3"
    },
    "language_info": {
      "codemirror_mode": {
        "name": "ipython",
        "version": 3
      },
      "file_extension": ".py",
      "mimetype": "text/x-python",
      "name": "python",
      "nbconvert_exporter": "python",
      "pygments_lexer": "ipython3",
      "version": "3.8.0"
    }
  },
  "nbformat": 4,
  "nbformat_minor": 0
}
