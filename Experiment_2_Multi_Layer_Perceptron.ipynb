{
  "nbformat": 4,
  "nbformat_minor": 0,
  "metadata": {
    "colab": {
      "provenance": []
    },
    "kernelspec": {
      "name": "python3",
      "display_name": "Python 3"
    },
    "language_info": {
      "name": "python"
    }
  },
  "cells": [
    {
      "cell_type": "markdown",
      "source": [
        "\n",
        "\n",
        "\n",
        "# Experiment 2:\tImplementation of Multi-Layer Perceptron\n",
        "\n",
        "\n",
        "### 1. Objective\n",
        "WAP to implement a multi-layer perceptron (MLP) network with one hidden layer using numpy in Python. Demonstrate that it can learn the XOR Boolean function.   "
      ],
      "metadata": {
        "id": "s-mMpKbtM5N7"
      }
    },
    {
      "cell_type": "markdown",
      "source": [
        "\n",
        "### 2. Description of the Model\n",
        "A multi-layer perceptron (MLP) is a feedforward neural network with at least one hidden layer. It uses non-linear activation functions to model complex decision boundaries. We will implement an MLP with one hidden layer to solve the XOR function.\n"
      ],
      "metadata": {
        "id": "PAXWsxRVM7IJ"
      }
    },
    {
      "cell_type": "markdown",
      "source": [
        "### 3. Python Implementation"
      ],
      "metadata": {
        "id": "1dPcilCeNBmZ"
      }
    },
    {
      "cell_type": "code",
      "execution_count": 50,
      "metadata": {
        "id": "Zr0Y7lpYLvE8"
      },
      "outputs": [],
      "source": [
        "import numpy as np\n",
        "\n",
        "#Activation Functions\n",
        "def sigmoid(x):\n",
        "    return 1 / (1 + np.exp(-x))\n",
        "\n",
        "def sigmoid_derivative(x):\n",
        "    return x * (1 - x)\n",
        "\n",
        "# Multi-Layer Perceptron class\n",
        "class MLP:\n",
        "    def __init__(self, input_size, hidden_size, output_size, learning_rate=0.1):\n",
        "        self.learning_rate = learning_rate\n",
        "\n",
        "        # Initialize weights and biases with small random values\n",
        "        self.input_hidden_weights = np.random.randn(input_size, hidden_size)\n",
        "        self.hidden_output_weights = np.random.randn(hidden_size, output_size)\n",
        "        self.hidden_bias = np.random.randn(hidden_size)\n",
        "        self.output_bias = np.random.randn(output_size)\n",
        "        self.loss_history = []\n",
        "\n",
        "    def forward(self, X):\n",
        "        # Input to Hidden Layer\n",
        "        self.hidden_input = np.dot(X, self.input_hidden_weights) + self.hidden_bias\n",
        "        self.hidden_output = sigmoid(self.hidden_input)\n",
        "\n",
        "        # Hidden to Output Layer\n",
        "        self.final_input = np.dot(self.hidden_output, self.hidden_output_weights) + self.output_bias\n",
        "        self.final_output = sigmoid(self.final_input)\n",
        "\n",
        "        return self.final_output\n",
        "\n",
        "\n",
        "\n",
        "\n",
        "    def train(self, X, y, epochs=10000):\n",
        "\n",
        "        for epoch in range(epochs):\n",
        "            total_loss = 0\n",
        "            # Forward Pass\n",
        "            output = self.forward(X)\n",
        "\n",
        "\n",
        "            # Compute Error\n",
        "            error = y - output\n",
        "            total_loss += np.sum(error**2)\n",
        "            self.loss_history.append(total_loss)\n",
        "\n",
        "            # Backpropagation\n",
        "            output_gradient = error * sigmoid_derivative(output)\n",
        "            hidden_error = output_gradient.dot(self.hidden_output_weights.T)\n",
        "            hidden_gradient = hidden_error * sigmoid_derivative(self.hidden_output)\n",
        "\n",
        "\n",
        "            # Update weights and biases\n",
        "            self.hidden_output_weights += self.hidden_output.T.dot(output_gradient) * self.learning_rate\n",
        "            self.output_bias += np.sum(output_gradient, axis=0) * self.learning_rate\n",
        "            self.input_hidden_weights += X.T.dot(hidden_gradient) * self.learning_rate\n",
        "            self.hidden_bias += np.sum(hidden_gradient, axis=0) * self.learning_rate\n",
        "\n",
        "            if epoch % 1000 == 0:\n",
        "                loss = np.mean(np.abs(error))\n",
        "                print(f\"Epoch {epoch}, Loss: {loss:.4f}\")\n",
        "\n",
        "    def predict(self, X):\n",
        "        return self.forward(X)\n",
        "\n",
        "\n",
        "\n"
      ]
    },
    {
      "cell_type": "markdown",
      "source": [
        "\n",
        "### 4. Description of Code\n",
        "\n",
        "\n",
        "- Uses a single hidden layer with a sigmoid activation function.\n",
        "\n",
        "- Randomly initializes weights and biases for hidden and output layers.\n",
        "- Forward pass computes activations from input → hidden layer → output.\n",
        "- Loss function: Mean Squared Error (MSE).\n",
        "- Updates weights using gradient descent based on the error.\n",
        "- Training runs for epochs=10000 to ensure convergence.\n"
      ],
      "metadata": {
        "id": "XGMXMi4eNasv"
      }
    },
    {
      "cell_type": "markdown",
      "source": [
        "**XOR Operation**\n"
      ],
      "metadata": {
        "id": "ijab2fQeXIHH"
      }
    },
    {
      "cell_type": "code",
      "source": [
        "# XOR Truth Table\n",
        "X_xor = np.array([[0, 0], [0, 1], [1, 0], [1, 1]])\n",
        "y_xor = np.array([[0], [1], [1], [0]])\n",
        "\n",
        "# Train MLP\n",
        "mlp = MLP(input_size=2, hidden_size=2, output_size=1)\n",
        "mlp.train(X_xor, y_xor)\n",
        "predictions = np.round([mlp.forward(x) for x in X_xor])\n",
        "predictions = mlp.predict(X)\n",
        "predictions = (predictions > 0.5).astype(int)\n",
        "\n",
        "\n",
        "\n",
        "#To see the raw outputs of the trained MLP for each XOR input.\n",
        "print(\"\\nMLP XOR Raw Results:\")\n",
        "for x in X_xor:\n",
        "    print(f\"Input: {x}, Output: {mlp.forward(x)}\")\n",
        "\n",
        "\n",
        "# Display XOR truth table with predictions\n",
        "print(\"\\nXOR Truth Table Predictions:\")\n",
        "print(\" X1  X2  |  y_actual  y_pred\")\n",
        "print(\"---------------------------\")\n",
        "for i in range(len(X)):\n",
        "    print(f\" {X[i][0]}   {X[i][1]}  |     {y[i][0]}        {predictions[i][0]}\")\n",
        "\n"
      ],
      "metadata": {
        "colab": {
          "base_uri": "https://localhost:8080/",
          "height": 0
        },
        "id": "v-BJmJwONYeI",
        "outputId": "dde3d44a-b22b-4ed6-b6db-3bb716944b73"
      },
      "execution_count": 47,
      "outputs": [
        {
          "output_type": "stream",
          "name": "stdout",
          "text": [
            "Epoch 0, Loss: 0.5002\n",
            "Epoch 1000, Loss: 0.4506\n",
            "Epoch 2000, Loss: 0.2702\n",
            "Epoch 3000, Loss: 0.1467\n",
            "Epoch 4000, Loss: 0.1028\n",
            "Epoch 5000, Loss: 0.0816\n",
            "Epoch 6000, Loss: 0.0690\n",
            "Epoch 7000, Loss: 0.0606\n",
            "Epoch 8000, Loss: 0.0545\n",
            "Epoch 9000, Loss: 0.0498\n",
            "\n",
            "MLP XOR Raw Results:\n",
            "Input: [0 0], Output: [0.04123933]\n",
            "Input: [0 1], Output: [0.95178477]\n",
            "Input: [1 0], Output: [0.95189465]\n",
            "Input: [1 1], Output: [0.04692876]\n",
            "\n",
            "XOR Truth Table Predictions:\n",
            " X1  X2  |  y_actual  y_pred\n",
            "---------------------------\n",
            " 0   0  |     0        0\n",
            " 0   1  |     1        1\n",
            " 1   0  |     1        1\n",
            " 1   1  |     0        0\n"
          ]
        }
      ]
    },
    {
      "cell_type": "markdown",
      "source": [
        "\n",
        "### 5. Performance Evaluation\n",
        "\n",
        "\n"
      ],
      "metadata": {
        "id": "WIXkEU_dNdep"
      }
    },
    {
      "cell_type": "markdown",
      "source": [
        "- The MLP successfully classifies XOR by learning non-linear boundaries.\n",
        "- Performance can be further evaluated using accuracy and loss curves."
      ],
      "metadata": {
        "id": "ewdHvahtaPDQ"
      }
    },
    {
      "cell_type": "markdown",
      "source": [
        "Confusion Matrix:\n",
        "- Shows correct classifications for XOR, provding MLP learns nonlinear functions.\n",
        "\n",
        "Loss Curve:\n",
        "- Demonstrates steady loss reduction, indicating successful training."
      ],
      "metadata": {
        "id": "rKHIdZj0WPok"
      }
    },
    {
      "cell_type": "code",
      "source": [
        "\n",
        "\n",
        "import matplotlib.pyplot as plt\n",
        "from sklearn.metrics import confusion_matrix, ConfusionMatrixDisplay, accuracy_score\n",
        "\n",
        "accuracy = accuracy_score(y_xor, predictions)\n",
        "print(f\"Accuracy: {accuracy * 100:.2f}%\")\n",
        "print()\n",
        "\n",
        "cm = confusion_matrix(y_xor, predictions)\n",
        "ConfusionMatrixDisplay(cm).plot()\n",
        "plt.title(\"Confusion Matrix for XOR using MLP\")\n",
        "plt.show()\n",
        "print()\n",
        "\n",
        "plt.plot(mlp.loss_history)\n",
        "plt.title(\"Loss Curve for MLP on XOR\")\n",
        "plt.xlabel(\"Epochs\")\n",
        "plt.ylabel(\"Loss\")\n",
        "plt.show()\n"
      ],
      "metadata": {
        "colab": {
          "base_uri": "https://localhost:8080/",
          "height": 945
        },
        "id": "GADpOoyzTjiJ",
        "outputId": "b9862035-a610-41f4-8c8b-b19eeb6dd61e"
      },
      "execution_count": 49,
      "outputs": [
        {
          "output_type": "stream",
          "name": "stdout",
          "text": [
            "Accuracy: 100.00%\n"
          ]
        },
        {
          "output_type": "display_data",
          "data": {
            "text/plain": [
              "<Figure size 640x480 with 2 Axes>"
            ],
            "image/png": "[encoded data removed]"
          },
          "metadata": {}
        },
        {
          "output_type": "display_data",
          "data": {
            "text/plain": [
              "<Figure size 640x480 with 1 Axes>"
            ],
            "image/png": "[encoded data removed]"
          },
          "metadata": {}
        }
      ]
    },
    {
      "cell_type": "markdown",
      "source": [
        "### 6. Comments\n",
        "- **Limitations:**\n",
        "  *   Training takes longer than single-layer perceptron requires.\n",
        "  *  Requires more computational power.\n",
        "\n",
        "\n",
        "- **Scope for Improvement:**\n",
        "\n",
        "  *   Can add more hidden layers for complex problems to improve accuracy.\n",
        "\n",
        "  *   Use batch training instead of updating after each sample.\n",
        "\n"
      ],
      "metadata": {
        "id": "oIbWUikrdB4s"
      }
    }
  ]
}