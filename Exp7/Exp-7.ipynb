{
 "cells": [
  {
   "cell_type": "markdown",
   "id": "1f0dc757",
   "metadata": {},
   "source": [
    "### **7. WAP to retrain a pretrained imagenet model to classify a medical image dataset.**\n",
    "---"
   ]
  },
  {
   "cell_type": "markdown",
   "id": "e6397f9c",
   "metadata": {},
   "source": [
    "I am using the [🔗**Brain Tumor MRI Dataset**](https://www.kaggle.com/datasets/masoudnickparvar/brain-tumor-mri-dataset) , which has the following classes:\n",
    "\n",
    "- **Glioma Tumor**\n",
    "- **Meningioma Tumor**\n",
    "- **Pituitary Tumor**\n",
    "- **No Tumor**\n",
    "\n",
    "Here’s a **complete PyTorch program** to retrain a **pretrained ImageNet model** (like `ResNet18`) for this task. It includes:\n",
    "\n",
    "- Data transforms\n",
    "- Train/val dataloaders\n",
    "- Transfer learning setup\n",
    "- Training + validation loop\n",
    "- Saving the best model\n",
    "---"
   ]
  },
  {
   "cell_type": "markdown",
   "id": "4c4b05a3",
   "metadata": {},
   "source": [
    "### Folder Structure\n",
    "\n",
    "```text\n",
    "Brain_Tumor_Dataset/\n",
    "├── Training/\n",
    "│   ├── glioma_tumor/\n",
    "│   ├── meningioma_tumor/\n",
    "│   ├── pituitary_tumor/\n",
    "│   └── no_tumor/\n",
    "├── Testing/\n",
    "│   ├── glioma_tumor/\n",
    "│   ├── meningioma_tumor/\n",
    "│   ├── pituitary_tumor/\n",
    "│   └── no_tumor/\n",
    "```\n",
    "---"
   ]
  },
  {
   "cell_type": "markdown",
   "id": "f61e862d",
   "metadata": {},
   "source": [
    "## Retrain ResNet18"
   ]
  },
  {
   "cell_type": "code",
   "execution_count": 7,
   "id": "96090a6b",
   "metadata": {},
   "outputs": [],
   "source": [
    "import os\n",
    "import torch\n",
    "import torch.nn as nn\n",
    "import torch.optim as optim\n",
    "from torchvision import datasets, transforms, models\n",
    "from torch.utils.data import DataLoader"
   ]
  },
  {
   "cell_type": "code",
   "execution_count": 8,
   "id": "5fbb4361",
   "metadata": {},
   "outputs": [],
   "source": [
    "# Device\n",
    "device = torch.device('cuda' if torch.cuda.is_available() else 'cpu')"
   ]
  },
  {
   "cell_type": "code",
   "execution_count": 9,
   "id": "c9441887",
   "metadata": {},
   "outputs": [],
   "source": [
    "# Paths\n",
    "data_dir = 'Brain_Tumor_Dataset'\n",
    "train_dir = os.path.join(data_dir, 'Training')\n",
    "val_dir = os.path.join(data_dir, 'Testing')  # Use 'Testing' as validation"
   ]
  },
  {
   "cell_type": "code",
   "execution_count": 10,
   "id": "f34667fc",
   "metadata": {},
   "outputs": [],
   "source": [
    "# Hyperparameters\n",
    "batch_size = 32\n",
    "learning_rate = 1e-4\n",
    "num_epochs = 10\n",
    "num_classes = 4"
   ]
  },
  {
   "cell_type": "code",
   "execution_count": 11,
   "id": "29ff4e3b",
   "metadata": {},
   "outputs": [],
   "source": [
    "# Transforms\n",
    "transform = {\n",
    "    'train': transforms.Compose([\n",
    "        transforms.Resize((224, 224)),\n",
    "        transforms.RandomHorizontalFlip(),\n",
    "        transforms.RandomRotation(10),\n",
    "        transforms.ToTensor(),\n",
    "        transforms.Normalize([0.485, 0.456, 0.406],\n",
    "                             [0.229, 0.224, 0.225])\n",
    "    ]),\n",
    "    'val': transforms.Compose([\n",
    "        transforms.Resize((224, 224)),\n",
    "        transforms.ToTensor(),\n",
    "        transforms.Normalize([0.485, 0.456, 0.406],\n",
    "                             [0.229, 0.224, 0.225])\n",
    "    ])\n",
    "}"
   ]
  },
  {
   "cell_type": "code",
   "execution_count": 12,
   "id": "6c433a8f",
   "metadata": {},
   "outputs": [],
   "source": [
    "# Datasets\n",
    "train_dataset = datasets.ImageFolder(train_dir, transform=transform['train'])\n",
    "val_dataset = datasets.ImageFolder(val_dir, transform=transform['val'])\n",
    "\n",
    "train_loader = DataLoader(train_dataset, batch_size=batch_size, shuffle=True)\n",
    "val_loader = DataLoader(val_dataset, batch_size=batch_size, shuffle=False)"
   ]
  },
  {
   "cell_type": "code",
   "execution_count": 13,
   "id": "5ef283d3",
   "metadata": {},
   "outputs": [
    {
     "name": "stderr",
     "output_type": "stream",
     "text": [
      "C:\\Users\\harsh\\AppData\\Roaming\\Python\\Python312\\site-packages\\torchvision\\models\\_utils.py:208: UserWarning: The parameter 'pretrained' is deprecated since 0.13 and may be removed in the future, please use 'weights' instead.\n",
      "  warnings.warn(\n",
      "C:\\Users\\harsh\\AppData\\Roaming\\Python\\Python312\\site-packages\\torchvision\\models\\_utils.py:223: UserWarning: Arguments other than a weight enum or `None` for 'weights' are deprecated since 0.13 and may be removed in the future. The current behavior is equivalent to passing `weights=ResNet18_Weights.IMAGENET1K_V1`. You can also use `weights=ResNet18_Weights.DEFAULT` to get the most up-to-date weights.\n",
      "  warnings.warn(msg)\n",
      "Downloading: \"https://download.pytorch.org/models/resnet18-f37072fd.pth\" to C:\\Users\\harsh/.cache\\torch\\hub\\checkpoints\\resnet18-f37072fd.pth\n",
      "100%|██████████| 44.7M/44.7M [03:17<00:00, 237kB/s] \n"
     ]
    }
   ],
   "source": [
    "# Load pre-trained model\n",
    "model = models.resnet18(pretrained=True)"
   ]
  },
  {
   "cell_type": "code",
   "execution_count": 14,
   "id": "8338565a",
   "metadata": {},
   "outputs": [],
   "source": [
    "# Freeze feature extractor\n",
    "for param in model.parameters():\n",
    "    param.requires_grad = False"
   ]
  },
  {
   "cell_type": "code",
   "execution_count": 15,
   "id": "33a315f7",
   "metadata": {},
   "outputs": [],
   "source": [
    "# Replace classifier\n",
    "model.fc = nn.Linear(model.fc.in_features, num_classes)\n",
    "model = model.to(device)"
   ]
  },
  {
   "cell_type": "code",
   "execution_count": 16,
   "id": "a2696782",
   "metadata": {},
   "outputs": [],
   "source": [
    "# Loss and optimizer\n",
    "criterion = nn.CrossEntropyLoss()\n",
    "optimizer = optim.Adam(model.fc.parameters(), lr=learning_rate)"
   ]
  },
  {
   "cell_type": "code",
   "execution_count": 17,
   "id": "915b17b6",
   "metadata": {},
   "outputs": [],
   "source": [
    "# Training + Validation loop\n",
    "def train_model(model, epochs):\n",
    "    best_acc = 0.0\n",
    "    for epoch in range(epochs):\n",
    "        print(f\"\\nEpoch {epoch+1}/{epochs}\")\n",
    "\n",
    "        for phase in ['train', 'val']:\n",
    "            if phase == 'train':\n",
    "                model.train()\n",
    "                dataloader = train_loader\n",
    "            else:\n",
    "                model.eval()\n",
    "                dataloader = val_loader\n",
    "\n",
    "            running_loss = 0.0\n",
    "            running_corrects = 0\n",
    "\n",
    "            for inputs, labels in dataloader:\n",
    "                inputs, labels = inputs.to(device), labels.to(device)\n",
    "\n",
    "                optimizer.zero_grad()\n",
    "\n",
    "                with torch.set_grad_enabled(phase == 'train'):\n",
    "                    outputs = model(inputs)\n",
    "                    loss = criterion(outputs, labels)\n",
    "                    _, preds = torch.max(outputs, 1)\n",
    "\n",
    "                    if phase == 'train':\n",
    "                        loss.backward()\n",
    "                        optimizer.step()\n",
    "\n",
    "                running_loss += loss.item() * inputs.size(0)\n",
    "                running_corrects += torch.sum(preds == labels)\n",
    "\n",
    "            epoch_loss = running_loss / len(dataloader.dataset)\n",
    "            epoch_acc = running_corrects.double() / len(dataloader.dataset)\n",
    "\n",
    "            print(f\"{phase.capitalize()} Loss: {epoch_loss:.4f}, Acc: {epoch_acc:.4f}\")\n",
    "\n",
    "            # Save best model\n",
    "            if phase == 'val' and epoch_acc > best_acc:\n",
    "                best_acc = epoch_acc\n",
    "                torch.save(model.state_dict(), 'best_brain_tumor_model.pth')\n",
    "\n",
    "    print(f\"\\nBest Validation Accuracy: {best_acc:.4f}\")"
   ]
  },
  {
   "cell_type": "code",
   "execution_count": 18,
   "id": "47d2ad45",
   "metadata": {},
   "outputs": [
    {
     "name": "stdout",
     "output_type": "stream",
     "text": [
      "\n",
      "Epoch 1/10\n",
      "Train Loss: 1.1471, Acc: 0.5376\n",
      "Val Loss: 0.9987, Acc: 0.6720\n",
      "\n",
      "Epoch 2/10\n",
      "Train Loss: 0.8586, Acc: 0.7400\n",
      "Val Loss: 0.8040, Acc: 0.7574\n",
      "\n",
      "Epoch 3/10\n",
      "Train Loss: 0.7158, Acc: 0.7880\n",
      "Val Loss: 0.7090, Acc: 0.7864\n",
      "\n",
      "Epoch 4/10\n",
      "Train Loss: 0.6293, Acc: 0.8197\n",
      "Val Loss: 0.6566, Acc: 0.7879\n",
      "\n",
      "Epoch 5/10\n",
      "Train Loss: 0.5716, Acc: 0.8256\n",
      "Val Loss: 0.6141, Acc: 0.8024\n",
      "\n",
      "Epoch 6/10\n",
      "Train Loss: 0.5385, Acc: 0.8340\n",
      "Val Loss: 0.5846, Acc: 0.7956\n",
      "\n",
      "Epoch 7/10\n",
      "Train Loss: 0.5123, Acc: 0.8372\n",
      "Val Loss: 0.5619, Acc: 0.8154\n",
      "\n",
      "Epoch 8/10\n",
      "Train Loss: 0.4869, Acc: 0.8477\n",
      "Val Loss: 0.5412, Acc: 0.8162\n",
      "\n",
      "Epoch 9/10\n",
      "Train Loss: 0.4672, Acc: 0.8475\n",
      "Val Loss: 0.5302, Acc: 0.8192\n",
      "\n",
      "Epoch 10/10\n",
      "Train Loss: 0.4503, Acc: 0.8559\n",
      "Val Loss: 0.5114, Acc: 0.8177\n",
      "\n",
      "Best Validation Accuracy: 0.8192\n"
     ]
    }
   ],
   "source": [
    "train_model(model, num_epochs)"
   ]
  },
  {
   "cell_type": "markdown",
   "id": "bb77b3d9",
   "metadata": {},
   "source": [
    "---"
   ]
  },
  {
   "cell_type": "markdown",
   "id": "eaa7e1b3",
   "metadata": {},
   "source": [
    "### To make predictions:"
   ]
  },
  {
   "cell_type": "code",
   "execution_count": 22,
   "id": "7430c844",
   "metadata": {},
   "outputs": [
    {
     "name": "stderr",
     "output_type": "stream",
     "text": [
      "C:\\Users\\harsh\\AppData\\Roaming\\Python\\Python312\\site-packages\\torchvision\\models\\_utils.py:223: UserWarning: Arguments other than a weight enum or `None` for 'weights' are deprecated since 0.13 and may be removed in the future. The current behavior is equivalent to passing `weights=None`.\n",
      "  warnings.warn(msg)\n"
     ]
    },
    {
     "name": "stdout",
     "output_type": "stream",
     "text": [
      "Test Accuracy: 81.92%\n"
     ]
    }
   ],
   "source": [
    "import torch\n",
    "import torch.nn as nn\n",
    "from torchvision import models, transforms, datasets\n",
    "from torch.utils.data import DataLoader\n",
    "import os\n",
    "\n",
    "# Device\n",
    "device = torch.device(\"cuda\" if torch.cuda.is_available() else \"cpu\")\n",
    "\n",
    "# Paths\n",
    "data_dir = 'Brain_Tumor_Dataset'\n",
    "val_dir = os.path.join(data_dir, 'Testing')\n",
    "num_classes = 4\n",
    "\n",
    "# Define the same transform used in validation\n",
    "val_transform = transforms.Compose([\n",
    "    transforms.Resize((224, 224)),\n",
    "    transforms.ToTensor(),\n",
    "    transforms.Normalize([0.485, 0.456, 0.406],\n",
    "                         [0.229, 0.224, 0.225])\n",
    "])\n",
    "\n",
    "# Load validation dataset\n",
    "val_dataset = datasets.ImageFolder(val_dir, transform=val_transform)\n",
    "val_loader = DataLoader(val_dataset, batch_size=32, shuffle=False)\n",
    "\n",
    "# Load model\n",
    "model = models.resnet18(pretrained=False)\n",
    "model.fc = nn.Linear(model.fc.in_features, num_classes)\n",
    "model.load_state_dict(torch.load('best_brain_tumor_model.pth', map_location=device))\n",
    "model = model.to(device)\n",
    "model.eval()\n",
    "\n",
    "# Evaluate model\n",
    "correct = 0\n",
    "total = 0\n",
    "\n",
    "with torch.no_grad():\n",
    "    for inputs, labels in val_loader:\n",
    "        inputs, labels = inputs.to(device), labels.to(device)\n",
    "        outputs = model(inputs)\n",
    "        _, preds = torch.max(outputs, 1)\n",
    "        correct += (preds == labels).sum().item()\n",
    "        total += labels.size(0)\n",
    "\n",
    "accuracy = 100 * correct / total\n",
    "print(f'Test Accuracy: {accuracy:.2f}%')\n"
   ]
  },
  {
   "cell_type": "code",
   "execution_count": null,
   "id": "75fa3b80",
   "metadata": {},
   "outputs": [],
   "source": [
    "from PIL import Image\n",
    "\n",
    "def predict_image(image_path):\n",
    "    model.eval()\n",
    "    image = Image.open(image_path).convert('RGB')\n",
    "    image = transform['val'](image).unsqueeze(0).to(device)\n",
    "    with torch.no_grad():\n",
    "        outputs = model(image)\n",
    "        _, predicted = torch.max(outputs, 1)\n",
    "    return train_dataset.classes[predicted.item()]\n"
   ]
  },
  {
   "cell_type": "code",
   "execution_count": 21,
   "id": "1c1a1fda",
   "metadata": {},
   "outputs": [
    {
     "name": "stdout",
     "output_type": "stream",
     "text": [
      "glioma_tumor\n"
     ]
    }
   ],
   "source": [
    "# Example\n",
    "print(predict_image(r\"Brain_Tumor_Dataset\\Testing\\glioma_tumor\\Te-gl_0011.jpg\"))"
   ]
  },
  {
   "cell_type": "code",
   "execution_count": null,
   "id": "73ccd135",
   "metadata": {},
   "outputs": [],
   "source": []
  }
 ],
 "metadata": {
  "kernelspec": {
   "display_name": "Projects",
   "language": "python",
   "name": "python3"
  },
  "language_info": {
   "codemirror_mode": {
    "name": "ipython",
    "version": 3
   },
   "file_extension": ".py",
   "mimetype": "text/x-python",
   "name": "python",
   "nbconvert_exporter": "python",
   "pygments_lexer": "ipython3",
   "version": "3.12.8"
  }
 },
 "nbformat": 4,
 "nbformat_minor": 5
}
