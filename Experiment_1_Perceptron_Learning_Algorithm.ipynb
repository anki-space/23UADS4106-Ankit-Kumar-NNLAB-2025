{
  "nbformat": 4,
  "nbformat_minor": 0,
  "metadata": {
    "colab": {
      "provenance": [],
      "toc_visible": true
    },
    "kernelspec": {
      "name": "python3",
      "display_name": "Python 3"
    },
    "language_info": {
      "name": "python"
    }
  },
  "cells": [
    {
      "cell_type": "markdown",
      "source": [
        "## Experiment 1: Perceptron Learning Algorithm\n",
        "\n",
        "\n",
        "\n",
        "\n",
        "### 1. Objective\n",
        "To implement the Perceptron Learning Algorithm using NumPy and evaluate its performance on NAND and XOR truth tables."
      ],
      "metadata": {
        "id": "UZVFLSNrQotM"
      }
    },
    {
      "cell_type": "markdown",
      "source": [
        "### 2. Description of the Model\n",
        "The perceptron is a single-layer neural network that uses a step activation function to classify input data. It updates its weights using the perceptron learning rule to minimize classification errors.\n"
      ],
      "metadata": {
        "id": "yJOiAkv9CEMc"
      }
    },
    {
      "cell_type": "markdown",
      "source": [
        "### 3. Python Implementation\n",
        "\n",
        "\n"
      ],
      "metadata": {
        "id": "TCFnYtuNCNNW"
      }
    },
    {
      "cell_type": "code",
      "source": [
        "\n",
        "import numpy as np\n",
        "\n",
        "def step_function(x):\n",
        "       return 1 if x >= 0 else 0\n",
        "\n",
        "class Perceptron:\n",
        "    def __init__(self, input_size, learning_rate=0.1, epochs=100):\n",
        "        self.weights = np.random.rand(input_size + 1)  # +1 for bias\n",
        "        self.learning_rate = learning_rate\n",
        "        self.epochs = epochs\n",
        "\n",
        "\n",
        "    def predict(self, x):\n",
        "        x = np.insert(x, 0, 1)  # Add bias input\n",
        "        return step_function(np.dot(self.weights, x))\n",
        "\n",
        "    def train(self, X, y):\n",
        "        for _ in range(self.epochs):\n",
        "            for i in range(len(X)):\n",
        "                x_i = np.insert(X[i], 0, 1)  # Add bias input\n",
        "                y_pred = step_function(np.dot(self.weights, x_i))\n",
        "                self.weights += self.learning_rate * (y[i] - y_pred) * x_i\n",
        "\n",
        "\n",
        "\n",
        "\n",
        "\n",
        "\n"
      ],
      "metadata": {
        "id": "YW872FIMCJG4"
      },
      "execution_count": null,
      "outputs": []
    },
    {
      "cell_type": "markdown",
      "source": [
        "####NAND Operation"
      ],
      "metadata": {
        "id": "cUzcbWpnDHqe"
      }
    },
    {
      "cell_type": "code",
      "execution_count": null,
      "metadata": {
        "colab": {
          "base_uri": "https://localhost:8080/"
        },
        "id": "hMOrhOYyB8kJ",
        "outputId": "6aa74864-7d64-4043-c94b-21484475183d"
      },
      "outputs": [
        {
          "output_type": "stream",
          "name": "stdout",
          "text": [
            "\n",
            "NAND Perceptron Results:\n",
            "Input: [0 0], Output: 1\n",
            "Input: [0 1], Output: 0\n",
            "Input: [1 0], Output: 1\n",
            "Input: [1 1], Output: 0\n"
          ]
        }
      ],
      "source": [
        "# NAND Truth Table\n",
        "X_nand = np.array([[0, 0], [0, 1], [1, 0], [1, 1]])\n",
        "y_nand = np.array([1, 1, 1, 0])\n",
        "\n",
        "\n",
        "perceptron_nand = Perceptron(input_size=2)\n",
        "perceptron_nand.train(X_nand, y_nand)\n",
        "predictions_nand = np.array([perceptron_nand.predict(x) for x in X_nand])\n",
        "print(\"\\nNAND Perceptron Results:\")\n",
        "for x in X_nand:\n",
        "    print(f\"Input: {x}, Output: {perceptron_nand.predict(x)}\")\n",
        "\n"
      ]
    },
    {
      "cell_type": "markdown",
      "source": [
        "###XOR Operation"
      ],
      "metadata": {
        "id": "eELkRtjBD7WG"
      }
    },
    {
      "cell_type": "code",
      "source": [
        "# XOR Truth Table\n",
        "X_xor = np.array([[0, 0], [0, 1], [1, 0], [1, 1]])\n",
        "y_xor = np.array([0, 1, 1, 0])\n",
        "\n",
        "perceptron_xor = Perceptron(input_size=2)\n",
        "perceptron_xor.train(X_xor, y_xor)\n",
        "predictions_xor = np.array([perceptron_xor.predict(x) for x in X_xor])\n",
        "print(\"\\nXOR Perceptron Results:\")\n",
        "for x in X_xor:\n",
        "    print(f\"Input: {x}, Output: {perceptron_nand.predict(x)}\")\n",
        "\n",
        "\n"
      ],
      "metadata": {
        "colab": {
          "base_uri": "https://localhost:8080/"
        },
        "id": "-tS6SCluC5hF",
        "outputId": "12cb5d9a-8b0e-4287-fb8d-afe4fc4558db"
      },
      "execution_count": null,
      "outputs": [
        {
          "output_type": "stream",
          "name": "stdout",
          "text": [
            "\n",
            "XOR Perceptron Results:\n",
            "Input: [0 0], Output: 1\n",
            "Input: [0 1], Output: 0\n",
            "Input: [1 0], Output: 0\n",
            "Input: [1 1], Output: 0\n"
          ]
        }
      ]
    },
    {
      "cell_type": "markdown",
      "source": [
        "\n",
        "\n",
        "### 4. Description of Code\n",
        "- The **Perceptron** class is defined with initialization of weights, learning rate, and epochs.\n",
        "- The **predict** function computes the weighted sum of inputs and applies a step activation function.\n",
        "- The **train** function updates weights using the perceptron learning rule iteratively over epochs.\n",
        "- The perceptron is tested on the NAND and XOR truth tables."
      ],
      "metadata": {
        "id": "kRAbAes_CRVO"
      }
    },
    {
      "cell_type": "markdown",
      "source": [
        "\n",
        "### 5. Performance Evaluation\n",
        "\n",
        "\n"
      ],
      "metadata": {
        "id": "WQgInkKCCVzK"
      }
    },
    {
      "cell_type": "code",
      "source": [
        "import matplotlib.pyplot as plt\n",
        "from sklearn.metrics import confusion_matrix, ConfusionMatrixDisplay\n",
        "\n",
        "cm_nand = confusion_matrix(y_nand, predictions_nand)\n",
        "ConfusionMatrixDisplay(cm_nand).plot()\n",
        "plt.title(\"Confusion Matrix for NAND\")\n",
        "plt.show()"
      ],
      "metadata": {
        "colab": {
          "base_uri": "https://localhost:8080/",
          "height": 472
        },
        "id": "elh0moMTRGW2",
        "outputId": "fb0670b4-076c-41f0-9287-19b6e5b0736d"
      },
      "execution_count": null,
      "outputs": [
        {
          "output_type": "display_data",
          "data": {
            "text/plain": [
              "<Figure size 640x480 with 2 Axes>"
            ],
            "image/png": "[encoded data removed]"
          },
          "metadata": {}
        }
      ]
    },
    {
      "cell_type": "code",
      "source": [
        "cm_xor = confusion_matrix(y_xor, predictions_xor)\n",
        "ConfusionMatrixDisplay(cm_xor).plot()\n",
        "plt.title(\"Confusion Matrix for  XOR\")\n",
        "plt.show()"
      ],
      "metadata": {
        "colab": {
          "base_uri": "https://localhost:8080/",
          "height": 472
        },
        "id": "gxlmTI-ESP5k",
        "outputId": "9e070955-6246-490b-c068-52848297541b"
      },
      "execution_count": null,
      "outputs": [
        {
          "output_type": "display_data",
          "data": {
            "text/plain": [
              "<Figure size 640x480 with 2 Axes>"
            ],
            "image/png": "[encoded data removed]"
          },
          "metadata": {}
        }
      ]
    },
    {
      "cell_type": "markdown",
      "source": [
        "\n",
        "- **NAND Function:** The perceptron successfully classifies NAND outputs as it is linearly separable.\n",
        "- **XOR Function:** The perceptron fails since XOR is not linearly separable.\n",
        "- **Accuracy**: The accuracy for NAND is 100%, while for XOR, it is around 50% (random guessing).\n",
        "- **Confusion Matrix:**\n",
        "  - For NAND, the confusion matrix is perfect with no misclassifications.\n",
        "  - For XOR, the model fails to classify correctly, leading to significant misclassification errors."
      ],
      "metadata": {
        "id": "Ty_XAgOWTD6h"
      }
    },
    {
      "cell_type": "markdown",
      "source": [
        "### 6.Comments\n",
        "- **Limitations:** The perceptron cannot learn non-linearly separable functions like XOR.\n",
        "- **Scope for Improvement:** A multi-layer perceptron (MLP) with backpropagation can solve XOR."
      ],
      "metadata": {
        "id": "Vfo0jkbHCauf"
      }
    }
  ]
}